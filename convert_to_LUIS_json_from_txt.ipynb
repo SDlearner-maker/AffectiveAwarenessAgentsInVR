{
  "cells": [
    {
      "cell_type": "code",
      "execution_count": null,
      "metadata": {
        "id": "iKgB8o0HIrCG"
      },
      "outputs": [],
      "source": [
        "# Python program to convert text\n",
        "# file to JSON \n",
        "  \n",
        "import json  \n",
        "  \n",
        "# the file to be converted\n",
        "filename = 'lexicons.txt'\n",
        "  \n",
        "# resultant dictionary\n",
        "dict1 = []\n",
        "  \n",
        "# fields in the sample file \n",
        "fields =['canonicalForm', 'list']\n",
        "  \n",
        "with open(filename) as fh:    \n",
        "        \n",
        "    # count variable for employee id creation\n",
        "    l = 1\n",
        "    for line in fh:\n",
        "        \n",
        "        # reading line by line from the text file\n",
        "        description = list( line.strip().split(None, 2))\n",
        "          \n",
        "        # for automatic creation of id for each employee\n",
        "        sno ='emp'+str(l)\n",
        "      \n",
        "        # loop variable\n",
        "        i = 0\n",
        "        # intermediate dictionary\n",
        "        dict2 = {}\n",
        "        while i<len(fields):\n",
        "                       \n",
        "            # creating dictionary for each canonical form               \n",
        "            dict2[fields[i]]= description[i]\n",
        "            i = i + 1\n",
        "                  \n",
        "        # appending the record of each canonical form to\n",
        "        dict1.append(dict2)\n",
        "    \n",
        "# creating json file        \n",
        "out_file = open(\"test2.json\", \"w\")\n",
        "json.dump(dict1, out_file, indent = 4)\n",
        "out_file.close()"
      ]
    },
    {
      "cell_type": "code",
      "execution_count": null,
      "metadata": {
        "id": "_Nl3D3EOIrCK"
      },
      "outputs": [],
      "source": [
        "###correct one\n",
        "\n",
        "a=[]\n",
        "i=0\n",
        "d={}\n",
        "\n",
        "#Add all 8 emotions as keys from the dataset\n",
        "for item in dict1:\n",
        "    d.setdefault(item['canonicalForm'], []).append(item)\n",
        "    \n",
        "for val in d.keys(): \n",
        "    d1={}\n",
        "    d1[\"canonicalForm\"]=val\n",
        "    d1[\"list\"]=[]\n",
        "    \n",
        "    k=0\n",
        "    for i in d[val]:\n",
        "    #Remove unnecessary characters\n",
        "        p=(i[\"list\"]).replace(\"#\", \"\").replace(\"/\", \"\")\n",
        "\n",
        "        # add the first 100 keywords for the particular emotion\n",
        "        d1[\"list\"].append(p)\n",
        "        k=k+1\n",
        "        if(k>100):\n",
        "            break\n",
        "    a.append(d1)\n",
        "\n",
        "#save into a .json file\n",
        "out_file = open(\"test3.json\", \"w\") \n",
        "json.dump(a, out_file, indent=4)\n",
        "out_file.close()"
      ]
    },
    {
      "cell_type": "code",
      "execution_count": null,
      "metadata": {
        "id": "4dIoxNuwIrCL",
        "outputId": "7cd75d37-557b-4b7d-f3c0-d06694448948"
      },
      "outputs": [
        {
          "data": {
            "text/plain": [
              "'lol'"
            ]
          },
          "execution_count": 26,
          "metadata": {},
          "output_type": "execute_result"
        }
      ],
      "source": [
        "import re\n",
        "\n",
        "x=\"#lol#/\\@ppp\"\n",
        "u=' '.join(re.sub(\"(@[A-Za-z0-9]+)|([^0-9A-Za-z \\t])|(\\w+:\\/\\/\\S+)\",\" \",x).split())\n",
        "u"
      ]
    },
    {
      "cell_type": "code",
      "execution_count": null,
      "metadata": {
        "id": "Akv_PLPMIrCM"
      },
      "outputs": [],
      "source": [
        ""
      ]
    }
  ],
  "metadata": {
    "kernelspec": {
      "display_name": "Python 3",
      "language": "python",
      "name": "python3"
    },
    "language_info": {
      "codemirror_mode": {
        "name": "ipython",
        "version": 3
      },
      "file_extension": ".py",
      "mimetype": "text/x-python",
      "name": "python",
      "nbconvert_exporter": "python",
      "pygments_lexer": "ipython3",
      "version": "3.8.5"
    },
    "colab": {
      "name": "convert to LUIS json from txt.ipynb",
      "provenance": [],
      "collapsed_sections": []
    }
  },
  "nbformat": 4,
  "nbformat_minor": 0
}